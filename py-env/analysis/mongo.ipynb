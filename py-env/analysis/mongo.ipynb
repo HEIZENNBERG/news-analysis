{
 "cells": [
  {
   "cell_type": "code",
   "execution_count": 1,
   "id": "89aad930",
   "metadata": {},
   "outputs": [
    {
     "name": "stdout",
     "output_type": "stream",
     "text": [
      "Collecting pymongo\n",
      "  Downloading pymongo-4.14.0-cp311-cp311-manylinux_2_17_x86_64.manylinux2014_x86_64.whl.metadata (22 kB)\n",
      "Collecting dnspython<3.0.0,>=1.16.0 (from pymongo)\n",
      "  Downloading dnspython-2.7.0-py3-none-any.whl.metadata (5.8 kB)\n",
      "Downloading pymongo-4.14.0-cp311-cp311-manylinux_2_17_x86_64.manylinux2014_x86_64.whl (1.4 MB)\n",
      "\u001b[2K   \u001b[90m━━━━━━━━━━━━━━━━━━━━━━━━━━━━━━━━━━━━━━━━\u001b[0m \u001b[32m1.4/1.4 MB\u001b[0m \u001b[31m473.3 kB/s\u001b[0m eta \u001b[36m0:00:00\u001b[0m00:01\u001b[0m00:01\u001b[0m\n",
      "\u001b[?25hDownloading dnspython-2.7.0-py3-none-any.whl (313 kB)\n",
      "\u001b[2K   \u001b[90m━━━━━━━━━━━━━━━━━━━━━━━━━━━━━━━━━━━━━━━━\u001b[0m \u001b[32m313.6/313.6 kB\u001b[0m \u001b[31m2.1 MB/s\u001b[0m eta \u001b[36m0:00:00\u001b[0ma \u001b[36m0:00:01\u001b[0m\n",
      "\u001b[?25hInstalling collected packages: dnspython, pymongo\n",
      "Successfully installed dnspython-2.7.0 pymongo-4.14.0\n",
      "\n",
      "\u001b[1m[\u001b[0m\u001b[34;49mnotice\u001b[0m\u001b[1;39;49m]\u001b[0m\u001b[39;49m A new release of pip is available: \u001b[0m\u001b[31;49m24.0\u001b[0m\u001b[39;49m -> \u001b[0m\u001b[32;49m25.2\u001b[0m\n",
      "\u001b[1m[\u001b[0m\u001b[34;49mnotice\u001b[0m\u001b[1;39;49m]\u001b[0m\u001b[39;49m To update, run: \u001b[0m\u001b[32;49mpip install --upgrade pip\u001b[0m\n"
     ]
    }
   ],
   "source": [
    "! pip install pymongo"
   ]
  },
  {
   "cell_type": "code",
   "execution_count": 2,
   "id": "1959061a",
   "metadata": {},
   "outputs": [
    {
     "name": "stdout",
     "output_type": "stream",
     "text": [
      "Total documents in collection: 686584\n",
      "{'_id': ObjectId('6897292e0d03e75cbf528a8d'), 'article_id': '594565', 'source_id': 'the-times-of-india', 'source_name': 'The Times of India', 'author': 'ETMarkets.com', 'title': 'Stock market update Nifty Pharma index advances 0.82 in an upbeat market', 'description': 'The Nifty Pharma index was trading 0.82 per cent  up  at 15936.6.', 'url': 'https://economictimes.indiatimes.com/markets/stocks/stock-watch/stock-market-update-nifty-pharma-index-advances-0-82-in-an-upbeat-market/articleshow/105375738.cms', 'url_to_image': 'https://img.etimg.com/thumb/msid-83797651,width-1200,height-630,imgsize-32000,overlay-etmarkets/photo.jpg', 'published_at': '2023-11-21 05:45:40.000000', 'content': 'NEW DELHI The Nifty Pharma index traded positive around 1115AMISTon Tuesday in an upbeat market. Gland Pharma Ltd.up 2.49 per cent, Laurus Labs Ltd.up 1.95 per cent, Alkem Laboratories Ltd.u 917 chars', 'category': 'Stock', 'sentiment': 'positive'}\n",
      "{'_id': ObjectId('6897292e0d03e75cbf528a8e'), 'article_id': '596187', 'source_id': 'al-jazeera-english', 'source_name': 'Al Jazeera English', 'author': 'Al Jazeera', 'title': 'Food aid for 1.4 million people in Chad to grind to a halt soon, WFP says', 'description': \"Food aid is due to stop in January in a country taking in hundreds of thousands of refugees from Sudan's war.\", 'url': 'https://www.aljazeera.com/news/2023/11/21/food-aid-for-1-4-million-people-in-chad-to-grind-to-a-halt-soon-wfp-says', 'url_to_image': 'https://www.aljazeera.com/wp-content/uploads/2023/09/2023-07-25T194030Z_1402490854_RC2BA2ADZU6U_RTRMADP_3_SUDAN-POLITICS-CHAD-REFUGEES-1694013020.jpg?resize=1920%2C1440', 'published_at': '2023-11-21 14:22:08.000000', 'content': 'The United Nations World Food Programme WFP says food aid to 1.4 million people in Chad, including newly arrived refugees fleeing violence in Sudans Darfur region, will end in January because of a  1668 chars', 'category': 'Food', 'sentiment': 'positive'}\n",
      "{'_id': ObjectId('6897292e0d03e75cbf528a8f'), 'article_id': '598075', 'source_id': 'cbs-news', 'source_name': 'CBS News', 'author': 'Lily Rose', 'title': 'CBS Mornings Deals Black Friday week begins with this 50 off bath gift set deal', 'description': 'CBS Morning Deals will save you up to 50 on these allnatural, vegan bath bombs this Black Friday week.', 'url': 'https://www.cbsnews.com/news/cbs-mornings-deals-black-friday-week-bath-gift-set-2023-11-20/', 'url_to_image': 'https://assets2.cbsnewsstatic.com/hub/i/r/2023/11/21/ff425b8e-beb5-4b64-b77b-7406740cb03a/thumbnail/1200x630/c2c88269f130a838acabba51434af5b4/mom-bomb-cbs-deals-hero.jpg?v=5659e73acd91751548aa89950cf015b0', 'published_at': '2023-11-21 17:13:03.000000', 'content': 'Black Friday week is here. This week on CBS Mornings, lifestyle expert Elizabeth Werner discussed deals on household items and holiday gift ideas, all at exclusive discounts. Discover the exclusive B 3066 chars', 'category': 'Space', 'sentiment': 'negative'}\n",
      "{'_id': ObjectId('6897292e0d03e75cbf528a90'), 'article_id': '600292', 'source_id': 'techradar', 'source_name': 'TechRadar', 'author': 'james.davidsonfuturenet.com James Davidson', 'title': \"I have a bright room so this miniLED TV is the Black Friday buy I'd get\", 'description': 'Both the Samsung QN90C and Hisense U8k are superb miniLED TVs for those with bright viewing environments, especially now with this Black Friday saving.', 'url': 'https://www.techradar.com/televisions/i-have-a-bright-room-so-this-mini-led-tv-is-the-black-friday-buy-id-get', 'url_to_image': 'https://cdn.mos.cms.futurecdn.net/VQCvtVAFedosTgBLw3ctZ7-1200-80.jpg', 'published_at': '2023-11-21 14:27:24.000000', 'content': \"As someone who lives in a bright room, I've been scanning Black Friday deals for the best miniLED TVs, which are know for their high brightness levels to combat pesky reflections. Thankfully, I've f 4511 chars\", 'category': 'Beauty', 'sentiment': 'positive'}\n",
      "{'_id': ObjectId('6897292e0d03e75cbf528a91'), 'article_id': '601794', 'source_id': 'new-york-magazine', 'source_name': 'New York Magazine', 'author': 'Intelligencer Staff', 'title': 'Satya Nadella on Hiring the Most Powerful Man in AI', 'description': 'CEO Satya Nadella talks to Kara Swisher about headhunting how the most powerful man in artificial intelligence after he was fired by Open AI and hired by Microsoft.', 'url': 'http://nymag.com/intelligencer/2023/11/on-with-kara-swisher-satya-nadella-on-hiring-sam-altman.html', 'url_to_image': 'https://pyxis.nymag.com/v1/imgs/8eb/412/5e15fcbff2b44e3d0601f8444b81ac6457-Satya-Nadella.1x.rsocial.w1200.jpg', 'published_at': '2023-11-21 17:05:23.000000', 'content': 'Its been a messy few days at OpenAI. On Friday, the companys board shocked the tech world by announcing it had fired CEO Sam Altman the face people think of when they think artificial intelligence. S 18277 chars', 'category': 'Artificial Intelligence', 'sentiment': 'negative'}\n"
     ]
    }
   ],
   "source": [
    "from pymongo import MongoClient\n",
    "\n",
    "# 1. Connect to MongoDB (adjust host/port if needed)\n",
    "client = MongoClient(\"mongodb://localhost:27017/\")  # If in Docker network, use container name instead of localhost\n",
    "\n",
    "# 2. Select database & collection\n",
    "db = client[\"newsdb\"]  # Replace with your DB name\n",
    "collection = db[\"news_collection\"]  # Replace with your collection name\n",
    "\n",
    "# 3. Count documents\n",
    "count = collection.count_documents({})\n",
    "print(f\"Total documents in collection: {count}\")\n",
    "\n",
    "# 4. Show first 5 documents\n",
    "for doc in collection.find().limit(5):\n",
    "    print(doc)\n"
   ]
  },
  {
   "cell_type": "code",
   "execution_count": null,
   "id": "51179d2b",
   "metadata": {},
   "outputs": [],
   "source": []
  }
 ],
 "metadata": {
  "kernelspec": {
   "display_name": "py-env",
   "language": "python",
   "name": "python3"
  },
  "language_info": {
   "codemirror_mode": {
    "name": "ipython",
    "version": 3
   },
   "file_extension": ".py",
   "mimetype": "text/x-python",
   "name": "python",
   "nbconvert_exporter": "python",
   "pygments_lexer": "ipython3",
   "version": "3.11.13"
  }
 },
 "nbformat": 4,
 "nbformat_minor": 5
}
